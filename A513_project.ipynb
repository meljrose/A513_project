{
 "cells": [
  {
   "cell_type": "markdown",
   "metadata": {},
   "source": [
    "### A513 Final Project Spring 2019\n",
    "Dietrich, Krantz, Rose\n",
    "\n",
    "Due date is Thursday May 2, at 5pm\n",
    "\n",
    "http://u.arizona.edu/~dpsaltis/Astr513/"
   ]
  },
  {
   "cell_type": "markdown",
   "metadata": {},
   "source": [
    "# (i) an introduction, where the problem is stated and motivated; \n",
    "\n",
    "##  M −σ relation for supermassive black holes\n"
   ]
  },
  {
   "cell_type": "markdown",
   "metadata": {},
   "source": [
    "# (ii) a section on the assumptions, the statistical question that will be addressed , and the method chosen; "
   ]
  },
  {
   "cell_type": "markdown",
   "metadata": {},
   "source": [
    "# (iii) a section on the data used; "
   ]
  },
  {
   "cell_type": "markdown",
   "metadata": {},
   "source": [
    "# (iv) a section on results; "
   ]
  },
  {
   "cell_type": "markdown",
   "metadata": {},
   "source": [
    "# (v) a section with conclusions."
   ]
  },
  {
   "cell_type": "code",
   "execution_count": null,
   "metadata": {},
   "outputs": [],
   "source": []
  },
  {
   "cell_type": "markdown",
   "metadata": {},
   "source": [
    "There is an observed correlation between the stellar velocity dispersion of a galaxy bulge (σ)\n",
    "and the mass of the supermassive black hole at its center (M) [2](#2). The correlation seems to be\n",
    "described well by a power law [3](#3) and its physical origin is a matter of active research [4](#4). In your projects use a recent data set of this correlation (which you can find in the literature) and explore different statistical aspects of this subject. Here are some examples (from the simplest to the most complicated):\n",
    "\n",
    "\n",
    "• Degeneracy in inference of correlation parameters. What is the origin and level of this degeneracy?\n",
    "\n",
    "• Compare Different Galaxy Types. Galaxies of different types have been discussed as showing slightly different correlations. Quantify such differences by calculating the level at which the inferred parameters for different galaxy types are different from each other.\n",
    "\n",
    "• Outlier detection. Are there outliers in the sample of data points? How do the parameters of the correlation depend on whether one includes or excludes the outliers?\n",
    "\n",
    "• Model Spread: The correlation between black-hole mass and velocity dispersion is not a fundamental physics law but rather the outcome of different mechanisms that affect the two observable quantities. As such, the correlation cannot have zero width. Quantify the underlying width of the correlation, given the current uncertainties in the data."
   ]
  },
  {
   "cell_type": "markdown",
   "metadata": {},
   "source": [
    "<a id=\"2\">2</a> <a href=\"http://adsabs.harvard.edu/cgi-bin/bib_query?2000ApJ...539L...9F\"> Ferrarese & Merritt, ApJ, 2000, ApJ, 539, L9; Gebhardt et al. 2000, ApJ, 539, L13 </a>\n",
    "\n",
    "<a id=\"3\">3</a> see, e.g., <a href=\"https://ui.adsabs.harvard.edu/abs/2002ApJ...574..740T/abstract\"> Tremaine et al. 2002, ApJ, 574, 740 </a>\n",
    "\n",
    "<a id=\"4\">4</a> see, e.g., <a href=\"https://ui.adsabs.harvard.edu/abs/2014ARA%26A..52..589H/abstract\"> Heckman & Best 2014, ARAA, 52, 589; Kormendy & Ho 2013, ARAA, 51, 511 </a>"
   ]
  },
  {
   "cell_type": "code",
   "execution_count": null,
   "metadata": {},
   "outputs": [],
   "source": []
  }
 ],
 "metadata": {
  "kernelspec": {
   "display_name": "Python 3",
   "language": "python",
   "name": "python3"
  },
  "language_info": {
   "codemirror_mode": {
    "name": "ipython",
    "version": 3
   },
   "file_extension": ".py",
   "mimetype": "text/x-python",
   "name": "python",
   "nbconvert_exporter": "python",
   "pygments_lexer": "ipython3",
   "version": "3.6.5"
  }
 },
 "nbformat": 4,
 "nbformat_minor": 2
}
